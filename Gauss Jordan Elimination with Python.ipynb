{
 "cells": [
  {
   "cell_type": "code",
   "execution_count": 9,
   "id": "d25f8273",
   "metadata": {},
   "outputs": [
    {
     "name": "stdout",
     "output_type": "stream",
     "text": [
      "Solution vector:\n",
      "[5.68372943 1.01828154 3.40402194 0.60146252 0.44424132]\n"
     ]
    }
   ],
   "source": [
    "import numpy as np\n",
    "\n",
    "# Take input for the number of equations and variables\n",
    "num_eqns = int(input(\"Enter the number of equations: \"))\n",
    "num_vars = int(input(\"Enter the number of variables: \"))\n",
    "\n",
    "# Take input for the coefficients matrix and the constants vector\n",
    "A = np.zeros((num_eqns, num_vars), dtype=float)\n",
    "B = np.zeros(num_eqns, dtype=float)\n",
    "for i in range(num_eqns):\n",
    "    eqn = input(f\"Enter equation {i+1} coefficients separated by space: \")\n",
    "    eqn_list = list(map(float, eqn.split()))\n",
    "    A[i] = eqn_list[:-1]\n",
    "    B[i] = eqn_list[-1]\n",
    "\n",
    "# Combine the coefficient matrix and the constants vector\n",
    "AB = np.column_stack((A, B))\n",
    "\n",
    "# Get the dimensions of the matrix\n",
    "num_rows, num_cols = AB.shape\n",
    "\n",
    "# Perform Gauss Jordan elimination\n",
    "for i in range(num_rows):\n",
    "    # Divide the current row by the pivot element to make the pivot element 1\n",
    "    pivot = AB[i][i]\n",
    "    AB[i] = AB[i] / pivot\n",
    "\n",
    "    # Eliminate the non-pivot elements in the current column\n",
    "    for j in range(num_rows):\n",
    "        if j != i:\n",
    "            factor = AB[j][i]\n",
    "            AB[j] = AB[j] - factor * AB[i]\n",
    "\n",
    "# Extract the solution vector from the augmented matrix\n",
    "X = AB[:, num_cols - 1]\n",
    "\n",
    "print(\"Solution vector:\")\n",
    "print(X)\n"
   ]
  },
  {
   "cell_type": "code",
   "execution_count": null,
   "id": "46c7aeb8",
   "metadata": {},
   "outputs": [],
   "source": [
    "'''\n",
    "\n",
    "Enter the number of equations: 5\n",
    "Enter the number of variables: 5\n",
    "Enter equation 1 coefficients separated by space: 1 1 2 1 2 15\n",
    "Enter equation 2 coefficients separated by space: 1 4 -1 2 1 8\n",
    "Enter equation 3 coefficients separated by space: 3 -2 1 3 4 22\n",
    "Enter equation 4 coefficients separated by space: -1 -1 3 1 2 5\n",
    "Enter equation 5 coefficients separated by space: 2 3 4 4 -1 30\n",
    "Solution vector:\n",
    "[ 1.  2. -1.  3.  2.]\n",
    "\n",
    "'''\n"
   ]
  },
  {
   "cell_type": "code",
   "execution_count": 1,
   "id": "d6da6789",
   "metadata": {},
   "outputs": [],
   "source": []
  },
  {
   "cell_type": "code",
   "execution_count": null,
   "id": "a001ba1b",
   "metadata": {},
   "outputs": [],
   "source": []
  },
  {
   "cell_type": "code",
   "execution_count": null,
   "id": "e67cd08b",
   "metadata": {},
   "outputs": [],
   "source": []
  },
  {
   "cell_type": "code",
   "execution_count": 2,
   "id": "2eaf4c5c",
   "metadata": {},
   "outputs": [
    {
     "name": "stdout",
     "output_type": "stream",
     "text": [
      "[2.0, 3.0, -0.9999999999999999]\n"
     ]
    }
   ],
   "source": [
    "A = [[2, 1, -1],\n",
    "     [-3, -1, 2],\n",
    "     [-2, 1, 2]]\n",
    "B = [8, -11, -3]\n",
    "X = gauss_jordan(A, B)\n",
    "print(X)\n"
   ]
  },
  {
   "cell_type": "code",
   "execution_count": 8,
   "id": "4f994d4e",
   "metadata": {},
   "outputs": [],
   "source": [
    "import numpy as np\n",
    "\n",
    "\n",
    "def gauss_jordan(A, B):\n",
    "    \"\"\"Solves a system of linear equations using Gauss-Jordan elimination.\"\"\"\n",
    "\n",
    "    n = len(A)\n",
    "    # Augmenting the matrix\n",
    "    M = np.concatenate((A, np.array(B).reshape(n, 1)), axis=1)\n",
    "\n",
    "    # Applying Gauss-Jordan elimination\n",
    "    for i in range(n):\n",
    "        # Swapping rows to get the largest element in the pivot position\n",
    "        max_row = i\n",
    "        for j in range(i+1, n):\n",
    "            if abs(M[j][i]) > abs(M[max_row][i]):\n",
    "                max_row = j\n",
    "        M[i], M[max_row] = M[max_row], M[i]\n",
    "\n",
    "        # Scaling the pivot row to have a 1 in the pivot position\n",
    "        pivot = M[i][i]\n",
    "        for j in range(i, n+1):\n",
    "            M[i][j] /= pivot\n",
    "\n",
    "        # Subtracting the pivot row from all other rows to create zeros below the pivot\n",
    "        for j in range(n):\n",
    "            if j != i:\n",
    "                factor = M[j][i]\n",
    "                for k in range(i, n+1):\n",
    "                    M[j][k] -= factor * M[i][k]\n",
    "\n",
    "    # Extracting the solution\n",
    "    X = M[:, n]\n",
    "\n",
    "    return X\n",
    "\n",
    "\n",
    "A = np.array([[1, 1, 2, 1, 2],\n",
    "              [1, 4, -1, 2, 1],\n",
    "              [3, -2, 1, 3, 4],\n",
    "              [-1, -1, 3, 1, 2],\n",
    "              [2, 3, 4, 4, -1]])\n"
   ]
  },
  {
   "cell_type": "code",
   "execution_count": 6,
   "id": "06005f93",
   "metadata": {},
   "outputs": [],
   "source": [
    "\n"
   ]
  },
  {
   "cell_type": "code",
   "execution_count": null,
   "id": "5f42a1e4",
   "metadata": {},
   "outputs": [],
   "source": []
  }
 ],
 "metadata": {
  "kernelspec": {
   "display_name": "Python 3 (ipykernel)",
   "language": "python",
   "name": "python3"
  },
  "language_info": {
   "codemirror_mode": {
    "name": "ipython",
    "version": 3
   },
   "file_extension": ".py",
   "mimetype": "text/x-python",
   "name": "python",
   "nbconvert_exporter": "python",
   "pygments_lexer": "ipython3",
   "version": "3.11.0"
  }
 },
 "nbformat": 4,
 "nbformat_minor": 5
}
